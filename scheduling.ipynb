{
 "cells": [
  {
   "cell_type": "code",
   "execution_count": 1,
   "outputs": [],
   "source": [
    "from scheduling import *"
   ],
   "metadata": {
    "collapsed": false,
    "ExecuteTime": {
     "start_time": "2023-06-13T12:53:55.962511Z",
     "end_time": "2023-06-13T12:53:55.994661Z"
    }
   }
  },
  {
   "cell_type": "markdown",
   "source": [
    "Exercise 1"
   ],
   "metadata": {
    "collapsed": false
   }
  },
  {
   "cell_type": "code",
   "execution_count": 4,
   "metadata": {
    "collapsed": true,
    "ExecuteTime": {
     "start_time": "2023-06-13T12:55:30.193902Z",
     "end_time": "2023-06-13T12:55:30.204459Z"
    }
   },
   "outputs": [
    {
     "data": {
      "text/plain": "[[15, 0, None, None, None, None],\n [21, 5, None, None, None, None],\n [5, 9, None, None, None, None],\n [8, 10, None, None, None, None]]"
     },
     "execution_count": 4,
     "metadata": {},
     "output_type": "execute_result"
    }
   ],
   "source": [
    "jobs = Jobs([Job(15,  0),\n",
    "             Job(21,  5),\n",
    "             Job( 5,  9),\n",
    "             Job( 8, 10)])\n",
    "\n",
    "jobs.to_array()"
   ]
  }
 ],
 "metadata": {
  "kernelspec": {
   "display_name": "Python 3",
   "language": "python",
   "name": "python3"
  },
  "language_info": {
   "codemirror_mode": {
    "name": "ipython",
    "version": 2
   },
   "file_extension": ".py",
   "mimetype": "text/x-python",
   "name": "python",
   "nbconvert_exporter": "python",
   "pygments_lexer": "ipython2",
   "version": "2.7.6"
  }
 },
 "nbformat": 4,
 "nbformat_minor": 0
}
