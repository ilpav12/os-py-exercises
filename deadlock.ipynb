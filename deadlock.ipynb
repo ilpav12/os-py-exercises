{
 "cells": [
  {
   "cell_type": "code",
   "execution_count": 1,
   "metadata": {
    "collapsed": true,
    "ExecuteTime": {
     "start_time": "2023-06-22T18:07:09.525446Z",
     "end_time": "2023-06-22T18:07:09.653687Z"
    }
   },
   "outputs": [],
   "source": [
    "from utils.deadlock import *"
   ]
  },
  {
   "cell_type": "markdown",
   "source": [
    "E58) a)"
   ],
   "metadata": {
    "collapsed": false
   }
  },
  {
   "cell_type": "code",
   "execution_count": 2,
   "outputs": [
    {
     "name": "stdout",
     "output_type": "stream",
     "text": [
      "Alloc:\n",
      " [[5 1 1]\n",
      " [0 2 0]\n",
      " [4 2 0]\n",
      " [2 2 0]]\n",
      "Max:\n",
      " [[6 1 2]\n",
      " [2 7 2]\n",
      " [7 6 3]\n",
      " [6 5 1]]\n",
      "Subtracting Alloc from Max:\n",
      " [[1 0 1]\n",
      " [2 5 2]\n",
      " [3 4 3]\n",
      " [4 3 1]]\n",
      "\n",
      "Process A comparing need with work: [1 0 1] <= [1 2 7]\n",
      "Process A completed\n",
      "work = work + alloc[A]: [1 2 7] + [5 1 1] = [6 3 8]\n",
      "\n",
      "Process A already finished\n",
      "Process B comparing need with work: [2 5 2] <= [6 3 8]\n",
      "Process B has not enough resources\n",
      "Process C comparing need with work: [3 4 3] <= [6 3 8]\n",
      "Process C has not enough resources\n",
      "Process D comparing need with work: [4 3 1] <= [6 3 8]\n",
      "Process D completed\n",
      "work = work + alloc[D]: [6 3 8] + [2 2 0] = [8 5 8]\n",
      "\n",
      "Process A already finished\n",
      "Process B comparing need with work: [2 5 2] <= [8 5 8]\n",
      "Process B completed\n",
      "work = work + alloc[B]: [8 5 8] + [0 2 0] = [8 7 8]\n",
      "\n",
      "Process A already finished\n",
      "Process B already finished\n",
      "Process C comparing need with work: [3 4 3] <= [8 7 8]\n",
      "Process C completed\n",
      "work = work + alloc[C]: [8 7 8] + [4 2 0] = [12  9  8]\n",
      "\n",
      "All processes are finished\n",
      "Safe sequence: ['A', 'D', 'B', 'C']\n"
     ]
    }
   ],
   "source": [
    "process_names = ['A', 'B', 'C', 'D']\n",
    "\n",
    "avail = np.array([1, 2, 7])\n",
    "\n",
    "alloc = np.array([[5, 1, 1],\n",
    "                  [0, 2, 0],\n",
    "                  [4, 2, 0],\n",
    "                  [2, 2, 0]])\n",
    "print(\"Alloc:\\n\", alloc)\n",
    "\n",
    "maximum = np.array([[6, 1, 2],\n",
    "                    [2, 7, 2],\n",
    "                    [7, 6, 3],\n",
    "                    [6, 5, 1]])\n",
    "print(\"Max:\\n\", maximum)\n",
    "\n",
    "need = np.subtract(maximum, alloc)\n",
    "print(\"Subtracting Alloc from Max:\\n\", need)\n",
    "\n",
    "isStateSafe = calc_safe_sequence(avail, alloc, need, process_names)"
   ],
   "metadata": {
    "collapsed": false,
    "ExecuteTime": {
     "start_time": "2023-06-22T18:07:09.659840Z",
     "end_time": "2023-06-22T18:07:09.675691Z"
    }
   }
  },
  {
   "cell_type": "markdown",
   "source": [
    "E58) b) D asks (0, 2, 1) more resources"
   ],
   "metadata": {
    "collapsed": false
   }
  },
  {
   "cell_type": "code",
   "execution_count": 3,
   "outputs": [
    {
     "name": "stdout",
     "output_type": "stream",
     "text": [
      "request <= need[D] ([0 2 1] <= [4 3 1]) OK\n",
      "request <= avail ([0 2 1] <= [1 2 7]) OK\n",
      "avail = avail - request: [1 2 7] - [0 2 1] = [1 0 6]\n",
      "need = need - request: [4 3 1] - [0 2 1] = [4 1 0]\n",
      "alloc[process] = alloc[process] + request: [2 2 0] + [0 2 1] = [2 4 1]\n",
      "\n",
      "Process A comparing need with work: [1 0 1] <= [1 0 6]\n",
      "Process A completed\n",
      "work = work + alloc[A]: [1 0 6] + [5 1 1] = [6 1 7]\n",
      "\n",
      "Process A already finished\n",
      "Process B comparing need with work: [2 5 2] <= [6 1 7]\n",
      "Process B has not enough resources\n",
      "Process C comparing need with work: [3 4 3] <= [6 1 7]\n",
      "Process C has not enough resources\n",
      "Process D comparing need with work: [4 1 0] <= [6 1 7]\n",
      "Process D completed\n",
      "work = work + alloc[D]: [6 1 7] + [2 4 1] = [8 5 8]\n",
      "\n",
      "Process A already finished\n",
      "Process B comparing need with work: [2 5 2] <= [8 5 8]\n",
      "Process B completed\n",
      "work = work + alloc[B]: [8 5 8] + [0 2 0] = [8 7 8]\n",
      "\n",
      "Process A already finished\n",
      "Process B already finished\n",
      "Process C comparing need with work: [3 4 3] <= [8 7 8]\n",
      "Process C completed\n",
      "work = work + alloc[C]: [8 7 8] + [4 2 0] = [12  9  8]\n",
      "\n",
      "All processes are finished\n",
      "Safe sequence: ['A', 'D', 'B', 'C']\n",
      "Request [0 2 1] for process D is granted\n"
     ]
    }
   ],
   "source": [
    "request = np.array([0, 2, 1])\n",
    "process = 3\n",
    "new_alloc, new_need = try_grant_request(avail, alloc, need, process, request, process_names)"
   ],
   "metadata": {
    "collapsed": false,
    "ExecuteTime": {
     "start_time": "2023-06-22T18:07:09.678725Z",
     "end_time": "2023-06-22T18:07:09.760948Z"
    }
   }
  },
  {
   "cell_type": "markdown",
   "source": [
    "E58) c) B asks (1, 2, 1) more resources"
   ],
   "metadata": {
    "collapsed": false
   }
  },
  {
   "cell_type": "code",
   "execution_count": 4,
   "outputs": [
    {
     "name": "stdout",
     "output_type": "stream",
     "text": [
      "request <= need[B] ([1 2 1] <= [2 5 2]) OK\n",
      "request <= avail ([1 2 1] <= [1 2 7]) OK\n",
      "avail = avail - request: [1 2 7] - [1 2 1] = [0 0 6]\n",
      "need = need - request: [2 5 2] - [1 2 1] = [1 3 1]\n",
      "alloc[process] = alloc[process] + request: [0 2 0] + [1 2 1] = [1 4 1]\n",
      "\n",
      "Process A comparing need with work: [1 0 1] <= [0 0 6]\n",
      "Process A has not enough resources\n",
      "Process B comparing need with work: [1 3 1] <= [0 0 6]\n",
      "Process B has not enough resources\n",
      "Process C comparing need with work: [3 4 3] <= [0 0 6]\n",
      "Process C has not enough resources\n",
      "Process D comparing need with work: [4 3 1] <= [0 0 6]\n",
      "Process D has not enough resources\n",
      "\n",
      "There is no safe sequence\n",
      "Request [1 2 1] for process B is not granted because the state would be unsafe\n"
     ]
    }
   ],
   "source": [
    "request = np.array([1, 2, 1])\n",
    "process = 1\n",
    "new_alloc, new_need = try_grant_request(avail, alloc, need, process, request, process_names)"
   ],
   "metadata": {
    "collapsed": false,
    "ExecuteTime": {
     "start_time": "2023-06-22T18:07:09.690534Z",
     "end_time": "2023-06-22T18:07:09.761946Z"
    }
   }
  },
  {
   "cell_type": "markdown",
   "source": [
    "E71)"
   ],
   "metadata": {
    "collapsed": false
   }
  },
  {
   "cell_type": "code",
   "execution_count": 5,
   "outputs": [
    {
     "name": "stdout",
     "output_type": "stream",
     "text": [
      "Alloc:\n",
      " [[3 1]\n",
      " [2 3]\n",
      " [3 0]]\n",
      "Max:\n",
      " [[7 3]\n",
      " [3 3]\n",
      " [5 4]]\n",
      "Avail:\n",
      " [2 8]\n",
      "Subtracting Alloc from Max:\n",
      " [[4 2]\n",
      " [1 0]\n",
      " [2 4]]\n",
      "\n",
      "Process P1 comparing need with work: [4 2] <= [2 8]\n",
      "Process P1 has not enough resources\n",
      "Process P2 comparing need with work: [1 0] <= [2 8]\n",
      "Process P2 completed\n",
      "work = work + alloc[P2]: [2 8] + [2 3] = [ 4 11]\n",
      "\n",
      "Process P1 comparing need with work: [4 2] <= [ 4 11]\n",
      "Process P1 completed\n",
      "work = work + alloc[P1]: [ 4 11] + [3 1] = [ 7 12]\n",
      "\n",
      "Process P1 already finished\n",
      "Process P2 already finished\n",
      "Process P3 comparing need with work: [2 4] <= [ 7 12]\n",
      "Process P3 completed\n",
      "work = work + alloc[P3]: [ 7 12] + [3 0] = [10 12]\n",
      "\n",
      "All processes are finished\n",
      "Safe sequence: ['P2', 'P1', 'P3']\n"
     ]
    },
    {
     "data": {
      "text/plain": "True"
     },
     "execution_count": 5,
     "metadata": {},
     "output_type": "execute_result"
    }
   ],
   "source": [
    "process_names = ['P1', 'P2', 'P3']\n",
    "resource_names = ['R1', 'R2']\n",
    "\n",
    "alloc = np.array([[3, 1],\n",
    "                  [2, 3],\n",
    "                  [3, 0]])\n",
    "print(\"Alloc:\\n\", alloc)\n",
    "\n",
    "maximum = np.array([[7, 3],\n",
    "                    [3, 3],\n",
    "                    [5, 4]])\n",
    "print(\"Max:\\n\", maximum)\n",
    "\n",
    "R1 = 10\n",
    "R2 = 12\n",
    "\n",
    "avail = np.array([R1-np.sum(alloc[:,0]), R2-np.sum(alloc[:,1])])\n",
    "print(\"Avail:\\n\", avail)\n",
    "\n",
    "need = np.subtract(maximum, alloc)\n",
    "print(\"Subtracting Alloc from Max:\\n\", need)\n",
    "\n",
    "calc_safe_sequence(avail, alloc, need, process_names)"
   ],
   "metadata": {
    "collapsed": false,
    "ExecuteTime": {
     "start_time": "2023-06-22T18:07:09.708575Z",
     "end_time": "2023-06-22T18:07:09.781115Z"
    }
   }
  },
  {
   "cell_type": "code",
   "execution_count": 6,
   "outputs": [
    {
     "name": "stdout",
     "output_type": "stream",
     "text": [
      "request <= need[P1] ([3 1] <= [4 2]) OK\n",
      "Request [3 1] for process P1 is not granted because it exceeds the available resources request > avail ([3 1] > [2 8])\n"
     ]
    }
   ],
   "source": [
    "request = np.array([3, 1])\n",
    "process = 0\n",
    "alloc, need = try_grant_request(avail, alloc, need, process, request, process_names)"
   ],
   "metadata": {
    "collapsed": false,
    "ExecuteTime": {
     "start_time": "2023-06-22T18:07:09.730893Z",
     "end_time": "2023-06-22T18:07:09.782627Z"
    }
   }
  },
  {
   "cell_type": "markdown",
   "source": [
    "E72)"
   ],
   "metadata": {
    "collapsed": false
   }
  },
  {
   "cell_type": "code",
   "execution_count": 7,
   "outputs": [
    {
     "name": "stdout",
     "output_type": "stream",
     "text": [
      "Alloc:\n",
      " [[1 0 0 0]\n",
      " [1 2 3 4]\n",
      " [0 2 2 2]\n",
      " [0 0 1 3]]\n",
      "Need:\n",
      " [[0 7 5 0]\n",
      " [1 0 0 2]\n",
      " [0 0 2 0]\n",
      " [0 6 4 2]]\n",
      "\n",
      "Process P1 comparing need with work: [0 7 5 0] <= [1 5 2 0]\n",
      "Process P1 has not enough resources\n",
      "Process P2 comparing need with work: [1 0 0 2] <= [1 5 2 0]\n",
      "Process P2 has not enough resources\n",
      "Process P3 comparing need with work: [0 0 2 0] <= [1 5 2 0]\n",
      "Process P3 completed\n",
      "work = work + alloc[P3]: [1 5 2 0] + [0 2 2 2] = [1 7 4 2]\n",
      "\n",
      "Process P1 comparing need with work: [0 7 5 0] <= [1 7 4 2]\n",
      "Process P1 has not enough resources\n",
      "Process P2 comparing need with work: [1 0 0 2] <= [1 7 4 2]\n",
      "Process P2 completed\n",
      "work = work + alloc[P2]: [1 7 4 2] + [1 2 3 4] = [2 9 7 6]\n",
      "\n",
      "Process P1 comparing need with work: [0 7 5 0] <= [2 9 7 6]\n",
      "Process P1 completed\n",
      "work = work + alloc[P1]: [2 9 7 6] + [1 0 0 0] = [3 9 7 6]\n",
      "\n",
      "Process P1 already finished\n",
      "Process P2 already finished\n",
      "Process P3 already finished\n",
      "Process P4 comparing need with work: [0 6 4 2] <= [3 9 7 6]\n",
      "Process P4 completed\n",
      "work = work + alloc[P4]: [3 9 7 6] + [0 0 1 3] = [3 9 8 9]\n",
      "\n",
      "All processes are finished\n",
      "Safe sequence: ['P3', 'P2', 'P1', 'P4']\n"
     ]
    }
   ],
   "source": [
    "process_names = ['P1', 'P2', 'P3', 'P4']\n",
    "\n",
    "avail = np.array([1, 5, 2, 0])\n",
    "\n",
    "alloc = np.array([[1, 0, 0, 0],\n",
    "                  [1, 2, 3, 4],\n",
    "                  [0, 2, 2, 2],\n",
    "                  [0, 0, 1, 3]])\n",
    "print(\"Alloc:\\n\", alloc)\n",
    "\n",
    "need = np.array([[0, 7, 5, 0],\n",
    "                 [1, 0, 0, 2],\n",
    "                 [0, 0, 2, 0],\n",
    "                 [0, 6, 4, 2]])\n",
    "print(\"Need:\\n\", need)\n",
    "\n",
    "isStateSafe = calc_safe_sequence(avail, alloc, need, process_names)"
   ],
   "metadata": {
    "collapsed": false,
    "ExecuteTime": {
     "start_time": "2023-06-22T18:07:09.742996Z",
     "end_time": "2023-06-22T18:07:09.782627Z"
    }
   }
  },
  {
   "cell_type": "markdown",
   "source": [
    "E72) P4 asks (0, 5, 2, 0) more resources"
   ],
   "metadata": {
    "collapsed": false
   }
  },
  {
   "cell_type": "code",
   "execution_count": 8,
   "outputs": [
    {
     "name": "stdout",
     "output_type": "stream",
     "text": [
      "request <= need[P4] ([0 5 2 0] <= [0 6 4 2]) OK\n",
      "request <= avail ([0 5 2 0] <= [1 5 2 0]) OK\n",
      "avail = avail - request: [1 5 2 0] - [0 5 2 0] = [1 0 0 0]\n",
      "need = need - request: [0 6 4 2] - [0 5 2 0] = [0 1 2 2]\n",
      "alloc[process] = alloc[process] + request: [0 0 1 3] + [0 5 2 0] = [0 5 3 3]\n",
      "\n",
      "Process P1 comparing need with work: [0 7 5 0] <= [1 0 0 0]\n",
      "Process P1 has not enough resources\n",
      "Process P2 comparing need with work: [1 0 0 2] <= [1 0 0 0]\n",
      "Process P2 has not enough resources\n",
      "Process P3 comparing need with work: [0 0 2 0] <= [1 0 0 0]\n",
      "Process P3 has not enough resources\n",
      "Process P4 comparing need with work: [0 1 2 2] <= [1 0 0 0]\n",
      "Process P4 has not enough resources\n",
      "\n",
      "There is no safe sequence\n",
      "Request [0 5 2 0] for process P4 is not granted because the state would be unsafe\n"
     ]
    }
   ],
   "source": [
    "request = np.array([0, 5, 2, 0])\n",
    "process = 3\n",
    "new_alloc, new_need = try_grant_request(avail, alloc, need, process, request, process_names)"
   ],
   "metadata": {
    "collapsed": false,
    "ExecuteTime": {
     "start_time": "2023-06-22T18:07:09.762964Z",
     "end_time": "2023-06-22T18:07:09.784452Z"
    }
   }
  },
  {
   "cell_type": "markdown",
   "source": [
    "E72) P1 asks (0, 3, 2, 0) more resources"
   ],
   "metadata": {
    "collapsed": false
   }
  },
  {
   "cell_type": "code",
   "execution_count": 9,
   "outputs": [
    {
     "name": "stdout",
     "output_type": "stream",
     "text": [
      "request <= need[P1] ([0 3 2 0] <= [0 7 5 0]) OK\n",
      "request <= avail ([0 3 2 0] <= [1 5 2 0]) OK\n",
      "avail = avail - request: [1 5 2 0] - [0 3 2 0] = [1 2 0 0]\n",
      "need = need - request: [0 7 5 0] - [0 3 2 0] = [0 4 3 0]\n",
      "alloc[process] = alloc[process] + request: [1 0 0 0] + [0 3 2 0] = [1 3 2 0]\n",
      "\n",
      "Process P1 comparing need with work: [0 4 3 0] <= [1 2 0 0]\n",
      "Process P1 has not enough resources\n",
      "Process P2 comparing need with work: [1 0 0 2] <= [1 2 0 0]\n",
      "Process P2 has not enough resources\n",
      "Process P3 comparing need with work: [0 0 2 0] <= [1 2 0 0]\n",
      "Process P3 has not enough resources\n",
      "Process P4 comparing need with work: [0 1 2 2] <= [1 2 0 0]\n",
      "Process P4 has not enough resources\n",
      "\n",
      "There is no safe sequence\n",
      "Request [0 3 2 0] for process P1 is not granted because the state would be unsafe\n"
     ]
    }
   ],
   "source": [
    "request = np.array([0, 3, 2, 0])\n",
    "process = 0\n",
    "new_alloc, new_need = try_grant_request(avail, new_alloc, new_need, process, request, process_names)"
   ],
   "metadata": {
    "collapsed": false,
    "ExecuteTime": {
     "start_time": "2023-06-22T18:07:09.777132Z",
     "end_time": "2023-06-22T18:07:09.790978Z"
    }
   }
  }
 ],
 "metadata": {
  "kernelspec": {
   "display_name": "Python 3",
   "language": "python",
   "name": "python3"
  },
  "language_info": {
   "codemirror_mode": {
    "name": "ipython",
    "version": 2
   },
   "file_extension": ".py",
   "mimetype": "text/x-python",
   "name": "python",
   "nbconvert_exporter": "python",
   "pygments_lexer": "ipython2",
   "version": "2.7.6"
  }
 },
 "nbformat": 4,
 "nbformat_minor": 0
}
