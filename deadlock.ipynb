{
 "cells": [
  {
   "cell_type": "code",
   "execution_count": 3,
   "metadata": {
    "collapsed": true,
    "ExecuteTime": {
     "end_time": "2023-06-18T19:34:28.882207900Z",
     "start_time": "2023-06-18T19:34:28.879713400Z"
    }
   },
   "outputs": [],
   "source": [
    "import numpy as np\n",
    "\n",
    "\n",
    "def calc_safe_sequence(avail, alloc, need):\n",
    "    n = len(alloc)     # number of processes\n",
    "    m = len(alloc[0])  # number of resources\n",
    "    # f = [0] * n\n",
    "    # ans = [0] * n\n",
    "    # ind = 0\n",
    "    # rows = ['P0', 'P1', 'P2', 'P3']\n",
    "\n",
    "    work = avail\n",
    "    finish = [False] * n\n",
    "\n",
    "    while True:\n",
    "        found = False\n",
    "        for i in range(n):\n",
    "            if not finish[i]:\n",
    "                if all(need[i] <= work):\n",
    "                    work += alloc[i]\n",
    "                    finish[i] = True\n",
    "                    found = True\n",
    "                    print(f'Process {i} is finished')\n",
    "        if not found:\n",
    "            break\n",
    "\n",
    "    # for k in range(1, 5):\n",
    "    #     for i in range(1, n+1):\n",
    "    #         if f[i] == 0:\n",
    "    #             flag = 0\n",
    "    #             for j in range(1, m+1):\n",
    "    #                 if need[i][j] > avail[j]:\n",
    "    #                     flag = 1\n",
    "    #                     break\n",
    "    #\n",
    "    #             if flag == 0:\n",
    "    #                 ind = ind + 1\n",
    "    #                 ans[ind] = i\n",
    "    #                 for y in range(1, m+1):\n",
    "    #                     avail[y] = avail[y] + alloc[i][y]\n",
    "    #                 f[i] = 1\n",
    "    #\n",
    "    #         print(f)\n",
    "    #         for i in range(1, n+1):\n",
    "    #             if f[i] == 0:\n",
    "    #                 raise ValueError(\"There is no safe sequence\")\n",
    "    #\n",
    "    #         print('\\nSafe Sequence is: ')\n",
    "    #\n",
    "    #         for i in range(1, n):\n",
    "    #             print(f'{rows[ans[i]]} -> ', end='')\n",
    "    #\n",
    "    #         print(f'{rows[ans[n]]}')\n",
    "\n",
    "def calc_need_matrix(alloc, max):\n",
    "    need = np.subtract(max, alloc)\n",
    "    return need\n",
    "\n",
    "def modify_allocate_matrix(alloc, risorse, processo):\n",
    "    for i in range(1, len(risorse)):\n",
    "        alloc[processo][i] = alloc[processo][i] + risorse[i]\n",
    "    return alloc\n",
    "\n",
    "def modify_avail_array(avail, risorse):\n",
    "    for i in range(1, len(risorse)):\n",
    "        avail[i] = avail[i] - risorse[i]\n",
    "\n",
    "    return avail"
   ]
  },
  {
   "cell_type": "code",
   "execution_count": 4,
   "outputs": [
    {
     "name": "stdout",
     "output_type": "stream",
     "text": [
      "[0, 0, 0, 0]\n"
     ]
    },
    {
     "ename": "ValueError",
     "evalue": "There is no safe sequence",
     "output_type": "error",
     "traceback": [
      "\u001B[1;31m---------------------------------------------------------------------------\u001B[0m",
      "\u001B[1;31mValueError\u001B[0m                                Traceback (most recent call last)",
      "Cell \u001B[1;32mIn[4], line 23\u001B[0m\n\u001B[0;32m     20\u001B[0m need \u001B[38;5;241m=\u001B[39m calc_need_matrix(alloc, maximum)\n\u001B[0;32m     21\u001B[0m \u001B[38;5;66;03m# need = pd.DataFrame(need, columns=header, index=rows)\u001B[39;00m\n\u001B[1;32m---> 23\u001B[0m \u001B[43mcalc_safe_sequence\u001B[49m\u001B[43m(\u001B[49m\u001B[43mavail\u001B[49m\u001B[43m,\u001B[49m\u001B[43m \u001B[49m\u001B[43malloc\u001B[49m\u001B[43m,\u001B[49m\u001B[43m \u001B[49m\u001B[43mneed\u001B[49m\u001B[43m)\u001B[49m\n",
      "Cell \u001B[1;32mIn[3], line 31\u001B[0m, in \u001B[0;36mcalc_safe_sequence\u001B[1;34m(avail, alloc, need)\u001B[0m\n\u001B[0;32m     29\u001B[0m \u001B[38;5;28;01mfor\u001B[39;00m i \u001B[38;5;129;01min\u001B[39;00m \u001B[38;5;28mrange\u001B[39m(\u001B[38;5;241m1\u001B[39m, n\u001B[38;5;241m+\u001B[39m\u001B[38;5;241m1\u001B[39m):\n\u001B[0;32m     30\u001B[0m     \u001B[38;5;28;01mif\u001B[39;00m f[i] \u001B[38;5;241m==\u001B[39m \u001B[38;5;241m0\u001B[39m:\n\u001B[1;32m---> 31\u001B[0m         \u001B[38;5;28;01mraise\u001B[39;00m \u001B[38;5;167;01mValueError\u001B[39;00m(\u001B[38;5;124m\"\u001B[39m\u001B[38;5;124mThere is no safe sequence\u001B[39m\u001B[38;5;124m\"\u001B[39m)\n\u001B[0;32m     33\u001B[0m \u001B[38;5;28mprint\u001B[39m(\u001B[38;5;124m'\u001B[39m\u001B[38;5;130;01m\\n\u001B[39;00m\u001B[38;5;124mSafe Sequence is: \u001B[39m\u001B[38;5;124m'\u001B[39m)\n\u001B[0;32m     35\u001B[0m \u001B[38;5;28;01mfor\u001B[39;00m i \u001B[38;5;129;01min\u001B[39;00m \u001B[38;5;28mrange\u001B[39m(\u001B[38;5;241m1\u001B[39m, n):\n",
      "\u001B[1;31mValueError\u001B[0m: There is no safe sequence"
     ]
    }
   ],
   "source": [
    "import pandas as pd\n",
    "\n",
    "header = ['A', 'B', 'C']\n",
    "rows = ['P0', 'P1', 'P2', 'P3']\n",
    "\n",
    "avail = [1, 2, 7]\n",
    "\n",
    "alloc = [[5, 1, 1],\n",
    "         [0, 2, 0],\n",
    "         [4, 2, 0],\n",
    "         [2, 2, 0]]\n",
    "# alloc = pd.DataFrame(alloc, columns=header, index=rows)\n",
    "\n",
    "maximum = [[6, 1, 2],\n",
    "           [2, 7, 2],\n",
    "           [7, 6, 3],\n",
    "           [6, 5, 1]]\n",
    "# maximum = pd.DataFrame(maximum, columns=header, index=rows)\n",
    "\n",
    "need = calc_need_matrix(alloc, maximum)\n",
    "# need = pd.DataFrame(need, columns=header, index=rows)\n",
    "\n",
    "calc_safe_sequence(avail, alloc, need)"
   ],
   "metadata": {
    "collapsed": false,
    "ExecuteTime": {
     "end_time": "2023-06-18T19:34:30.283814100Z",
     "start_time": "2023-06-18T19:34:30.251472600Z"
    }
   }
  }
 ],
 "metadata": {
  "kernelspec": {
   "display_name": "Python 3",
   "language": "python",
   "name": "python3"
  },
  "language_info": {
   "codemirror_mode": {
    "name": "ipython",
    "version": 2
   },
   "file_extension": ".py",
   "mimetype": "text/x-python",
   "name": "python",
   "nbconvert_exporter": "python",
   "pygments_lexer": "ipython2",
   "version": "2.7.6"
  }
 },
 "nbformat": 4,
 "nbformat_minor": 0
}
