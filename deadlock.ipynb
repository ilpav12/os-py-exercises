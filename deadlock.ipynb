{
 "cells": [
  {
   "cell_type": "code",
   "execution_count": 52,
   "metadata": {
    "collapsed": true,
    "ExecuteTime": {
     "end_time": "2023-06-20T16:31:10.135596700Z",
     "start_time": "2023-06-20T16:31:10.133831100Z"
    }
   },
   "outputs": [],
   "source": [
    "import numpy as np\n",
    "\n",
    "\n",
    "def calc_safe_sequence(avail, alloc, need, process_names):\n",
    "    n = len(alloc)     # number of processes\n",
    "    m = len(alloc[0])  # number of resources\n",
    "    safe_sequence = []\n",
    "    work = avail\n",
    "    finish = [False] * n\n",
    "\n",
    "    while True:\n",
    "        print()\n",
    "        for i in range(n):\n",
    "            print(f'Process {process_names[i]}', end=' ')\n",
    "            if not finish[i]:\n",
    "                print('comparing need with work:', need[i], '<=', work)\n",
    "                if all(need[i][j] > work[j] for j in range(m)):\n",
    "                    print(f'Process {process_names[i]} has not enough resources')\n",
    "                    break\n",
    "                else:\n",
    "                    print(f'Process {process_names[i]} completed')\n",
    "                    print('work = work + alloc:', work, '+', alloc[i], '=', np.add(work, alloc[i]))\n",
    "                    work = np.add(work, alloc[i])\n",
    "                    finish[i] = True\n",
    "                    safe_sequence.append(process_names[i])\n",
    "                continue\n",
    "            print('already finished')\n",
    "\n",
    "        if all(finish):\n",
    "            print()\n",
    "            print('All processes are finished')\n",
    "            print('Safe sequence:', safe_sequence)\n",
    "            break"
   ]
  },
  {
   "cell_type": "markdown",
   "source": [
    "E58) a)"
   ],
   "metadata": {
    "collapsed": false
   }
  },
  {
   "cell_type": "code",
   "execution_count": 56,
   "outputs": [
    {
     "name": "stdout",
     "output_type": "stream",
     "text": [
      "Alloc:\n",
      " [[5 1 1]\n",
      " [0 2 0]\n",
      " [4 2 0]\n",
      " [2 2 0]]\n",
      "Max:\n",
      " [[6 1 2]\n",
      " [2 7 2]\n",
      " [7 6 3]\n",
      " [6 5 1]]\n",
      "Subtracting Alloc from Max:\n",
      " [[1 0 1]\n",
      " [2 5 2]\n",
      " [3 4 3]\n",
      " [4 3 1]]\n",
      "\n",
      "Process A comparing need with work: [1 0 1] <= [1 2 7]\n",
      "Process A completed\n",
      "work = work + alloc: [1 2 7] + [5 1 1] = [6 3 8]\n",
      "Process B comparing need with work: [2 5 2] <= [6 3 8]\n",
      "Process B completed\n",
      "work = work + alloc: [6 3 8] + [0 2 0] = [6 5 8]\n",
      "Process C comparing need with work: [3 4 3] <= [6 5 8]\n",
      "Process C completed\n",
      "work = work + alloc: [6 5 8] + [4 2 0] = [10  7  8]\n",
      "Process D comparing need with work: [4 3 1] <= [10  7  8]\n",
      "Process D completed\n",
      "work = work + alloc: [10  7  8] + [2 2 0] = [12  9  8]\n",
      "\n",
      "All processes are finished\n",
      "Safe sequence: ['A', 'B', 'C', 'D']\n"
     ]
    }
   ],
   "source": [
    "process_names = ['A', 'B', 'C', 'D']\n",
    "\n",
    "avail = np.array([1, 2, 7])\n",
    "\n",
    "alloc = np.array([[5, 1, 1],\n",
    "                  [0, 2, 0],\n",
    "                  [4, 2, 0],\n",
    "                  [2, 2, 0]])\n",
    "print(\"Alloc:\\n\", alloc)\n",
    "\n",
    "maximum = np.array([[6, 1, 2],\n",
    "                    [2, 7, 2],\n",
    "                    [7, 6, 3],\n",
    "                    [6, 5, 1]])\n",
    "print(\"Max:\\n\", maximum)\n",
    "\n",
    "need = np.subtract(maximum, alloc)\n",
    "print(\"Subtracting Alloc from Max:\\n\", need)\n",
    "\n",
    "calc_safe_sequence(avail, alloc, need, process_names)"
   ],
   "metadata": {
    "collapsed": false,
    "ExecuteTime": {
     "end_time": "2023-06-20T16:37:28.425908900Z",
     "start_time": "2023-06-20T16:37:28.409198200Z"
    }
   }
  },
  {
   "cell_type": "markdown",
   "source": [
    "E58) b) D asks (0, 2, 1) more resources"
   ],
   "metadata": {
    "collapsed": false
   }
  },
  {
   "cell_type": "code",
   "execution_count": 58,
   "outputs": [
    {
     "name": "stdout",
     "output_type": "stream",
     "text": [
      "Request [0 2 1] for process D is not granted because it exceeds the maximum resources\n",
      "\n",
      "Process A comparing need with work: [1 0 1] <= [1 0 6]\n",
      "Process A completed\n",
      "work = work + alloc: [1 0 6] + [5 1 1] = [6 1 7]\n",
      "Process B comparing need with work: [2 5 2] <= [6 1 7]\n",
      "Process B completed\n",
      "work = work + alloc: [6 1 7] + [0 2 0] = [6 3 7]\n",
      "Process C comparing need with work: [3 4 3] <= [6 3 7]\n",
      "Process C completed\n",
      "work = work + alloc: [6 3 7] + [4 2 0] = [10  5  7]\n",
      "Process D comparing need with work: [4 1 0] <= [10  5  7]\n",
      "Process D completed\n",
      "work = work + alloc: [10  5  7] + [2 4 1] = [12  9  8]\n",
      "\n",
      "All processes are finished\n",
      "Safe sequence: ['A', 'B', 'C', 'D']\n"
     ]
    }
   ],
   "source": [
    "request = np.array([0, 2, 1])\n",
    "process = 3\n",
    "if all(request[i] <= need[process][i] for i in range(len(request))):\n",
    "    if all(request[i] <= avail[i] for i in range(len(request))):\n",
    "        print(f'Request {request} for process {process_names[process]} is granted')\n",
    "        print('avail = avail - request:', avail, '-', request, '=', np.subtract(avail, request))\n",
    "        avail = np.subtract(avail, request)\n",
    "        print('alloc[process] = alloc[process] + request:',\n",
    "              alloc[process], '+', request, '=', np.add(alloc[process], request))\n",
    "        alloc[process] = np.add(alloc[process], request)\n",
    "        print('need = need - request:', need[process], '-', request, '=', np.subtract(need[process], request))\n",
    "        need[process] = np.subtract(need[process], request)\n",
    "    else:\n",
    "        print(f'Request {request} for process {process_names[process]} '\n",
    "              f'is not granted because it exceeds the available resources '\n",
    "              f'(request > avail)'\n",
    "else:\n",
    "    print(f'Request {request} for process {process_names[process]} '\n",
    "          f'is not granted because it exceeds the maximum resources')\n",
    "\n",
    "calc_safe_sequence(avail, alloc, need, process_names)"
   ],
   "metadata": {
    "collapsed": false,
    "ExecuteTime": {
     "end_time": "2023-06-20T16:38:17.524184100Z",
     "start_time": "2023-06-20T16:38:17.508393Z"
    }
   }
  },
  {
   "cell_type": "code",
   "execution_count": null,
   "outputs": [],
   "source": [
    "process_names = ['A', 'B', 'C', 'D']\n",
    "\n",
    "avail = np.array([0, 0, 6]) # B asks (1, 2, 1) more resources\n",
    "\n",
    "alloc = np.array([[5, 1, 1],\n",
    "                  [1, 4, 1],   # B asks (1, 2, 1) more resources\n",
    "                  [4, 2, 0],\n",
    "                  [2, 4, 1]])\n",
    "print(\"Alloc:\\n\", alloc)\n",
    "\n",
    "maximum = np.array([[6, 1, 2],\n",
    "                    [2, 7, 2],\n",
    "                    [7, 6, 3],\n",
    "                    [6, 5, 1]])\n",
    "print(\"Max:\\n\", maximum)\n",
    "\n",
    "need = calc_need_matrix(alloc, maximum)\n",
    "print(\"Subtracting Alloc from Max:\\n\", need)\n",
    "\n",
    "calc_safe_sequence(avail, alloc, need, process_names)"
   ],
   "metadata": {
    "collapsed": false
   }
  }
 ],
 "metadata": {
  "kernelspec": {
   "display_name": "Python 3",
   "language": "python",
   "name": "python3"
  },
  "language_info": {
   "codemirror_mode": {
    "name": "ipython",
    "version": 2
   },
   "file_extension": ".py",
   "mimetype": "text/x-python",
   "name": "python",
   "nbconvert_exporter": "python",
   "pygments_lexer": "ipython2",
   "version": "2.7.6"
  }
 },
 "nbformat": 4,
 "nbformat_minor": 0
}
