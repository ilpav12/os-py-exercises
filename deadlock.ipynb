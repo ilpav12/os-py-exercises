{
 "cells": [
  {
   "cell_type": "code",
   "execution_count": 1,
   "metadata": {
    "collapsed": true,
    "ExecuteTime": {
     "end_time": "2023-06-21T18:11:34.276698100Z",
     "start_time": "2023-06-21T18:11:34.198946400Z"
    }
   },
   "outputs": [],
   "source": [
    "import numpy as np\n",
    "\n",
    "\n",
    "def calc_safe_sequence(avail, alloc, need, process_names):\n",
    "    n = len(alloc)     # number of processes\n",
    "    m = len(alloc[0])  # number of resources\n",
    "    safe_sequence = []\n",
    "    work = avail\n",
    "    finish = [False] * n\n",
    "\n",
    "    while True:\n",
    "        print()\n",
    "        for i in range(n):\n",
    "            print(f'Process {process_names[i]}', end=' ')\n",
    "            if finish[i]:\n",
    "                print('already finished')\n",
    "                continue\n",
    "\n",
    "            print('comparing need with work:', need[i], '<=', work)\n",
    "            if (need[i] > work).any():\n",
    "                print(f'Process {process_names[i]} has not enough resources')\n",
    "                continue\n",
    "\n",
    "            print(f'Process {process_names[i]} completed')\n",
    "            print('work = work + alloc:', work, '+', alloc[i], '=', np.add(work, alloc[i]))\n",
    "            work = np.add(work, alloc[i])\n",
    "            finish[i] = True\n",
    "            safe_sequence.append(process_names[i])\n",
    "            continue\n",
    "\n",
    "        if all(finish):\n",
    "            print()\n",
    "            print('All processes are finished')\n",
    "            print('Safe sequence:', safe_sequence)\n",
    "            break\n",
    "\n",
    "        if not any(finish):\n",
    "            print()\n",
    "            print('There is no safe sequence')\n",
    "            break\n",
    "\n",
    "def try_grant_request(avail, alloc, need, process, request):\n",
    "    if (request <= need[process]).all():\n",
    "        if (request <= avail).all():\n",
    "            print(f'Request {request} for process {process_names[process]} is granted')\n",
    "            print('avail = avail - request:', avail, '-', request, '=', np.subtract(avail, request))\n",
    "            avail = np.subtract(avail, request)\n",
    "            print('alloc[process] = alloc[process] + request:',\n",
    "                  alloc[process], '+', request, '=', np.add(alloc[process], request))\n",
    "            alloc[process] = np.add(alloc[process], request)\n",
    "            print('need = need - request:', need[process], '-', request, '=', np.subtract(need[process], request))\n",
    "            need[process] = np.subtract(need[process], request)\n",
    "            calc_safe_sequence(avail, alloc, need, process_names)\n",
    "        else:\n",
    "            print(f'Request {request} for process {process_names[process]} '\n",
    "                  f'is not granted because it exceeds the available resources '\n",
    "                  f'request > avail ({request} > {avail})')\n",
    "    else:\n",
    "        print(f'Request {request} for process {process_names[process]} '\n",
    "              f'is not granted because it exceeds the maximum resources')"
   ]
  },
  {
   "cell_type": "markdown",
   "source": [
    "E58) a)"
   ],
   "metadata": {
    "collapsed": false
   }
  },
  {
   "cell_type": "code",
   "execution_count": 2,
   "outputs": [
    {
     "name": "stdout",
     "output_type": "stream",
     "text": [
      "Alloc:\n",
      " [[5 1 1]\n",
      " [0 2 0]\n",
      " [4 2 0]\n",
      " [2 2 0]]\n",
      "Max:\n",
      " [[6 1 2]\n",
      " [2 7 2]\n",
      " [7 6 3]\n",
      " [6 5 1]]\n",
      "Subtracting Alloc from Max:\n",
      " [[1 0 1]\n",
      " [2 5 2]\n",
      " [3 4 3]\n",
      " [4 3 1]]\n",
      "\n",
      "Process A comparing need with work: [1 0 1] <= [1 2 7]\n",
      "Process A completed\n",
      "work = work + alloc: [1 2 7] + [5 1 1] = [6 3 8]\n",
      "Process B comparing need with work: [2 5 2] <= [6 3 8]\n",
      "Process B has not enough resources\n",
      "Process C comparing need with work: [3 4 3] <= [6 3 8]\n",
      "Process C has not enough resources\n",
      "Process D comparing need with work: [4 3 1] <= [6 3 8]\n",
      "Process D completed\n",
      "work = work + alloc: [6 3 8] + [2 2 0] = [8 5 8]\n",
      "\n",
      "Process A already finished\n",
      "Process B comparing need with work: [2 5 2] <= [8 5 8]\n",
      "Process B completed\n",
      "work = work + alloc: [8 5 8] + [0 2 0] = [8 7 8]\n",
      "Process C comparing need with work: [3 4 3] <= [8 7 8]\n",
      "Process C completed\n",
      "work = work + alloc: [8 7 8] + [4 2 0] = [12  9  8]\n",
      "Process D already finished\n",
      "\n",
      "All processes are finished\n",
      "Safe sequence: ['A', 'D', 'B', 'C']\n"
     ]
    }
   ],
   "source": [
    "process_names = ['A', 'B', 'C', 'D']\n",
    "\n",
    "avail = np.array([1, 2, 7])\n",
    "\n",
    "alloc = np.array([[5, 1, 1],\n",
    "                  [0, 2, 0],\n",
    "                  [4, 2, 0],\n",
    "                  [2, 2, 0]])\n",
    "print(\"Alloc:\\n\", alloc)\n",
    "\n",
    "maximum = np.array([[6, 1, 2],\n",
    "                    [2, 7, 2],\n",
    "                    [7, 6, 3],\n",
    "                    [6, 5, 1]])\n",
    "print(\"Max:\\n\", maximum)\n",
    "\n",
    "need = np.subtract(maximum, alloc)\n",
    "print(\"Subtracting Alloc from Max:\\n\", need)\n",
    "\n",
    "calc_safe_sequence(avail, alloc, need, process_names)"
   ],
   "metadata": {
    "collapsed": false,
    "ExecuteTime": {
     "end_time": "2023-06-21T18:11:34.283814100Z",
     "start_time": "2023-06-21T18:11:34.279699100Z"
    }
   }
  },
  {
   "cell_type": "markdown",
   "source": [
    "E58) b) D asks (0, 2, 1) more resources"
   ],
   "metadata": {
    "collapsed": false
   }
  },
  {
   "cell_type": "code",
   "execution_count": 3,
   "outputs": [
    {
     "name": "stdout",
     "output_type": "stream",
     "text": [
      "Request [0 2 1] for process D is granted\n",
      "avail = avail - request: [1 2 7] - [0 2 1] = [1 0 6]\n",
      "alloc[process] = alloc[process] + request: [2 2 0] + [0 2 1] = [2 4 1]\n",
      "need = need - request: [4 3 1] - [0 2 1] = [4 1 0]\n",
      "\n",
      "Process A comparing need with work: [1 0 1] <= [1 0 6]\n",
      "Process A completed\n",
      "work = work + alloc: [1 0 6] + [5 1 1] = [6 1 7]\n",
      "Process B comparing need with work: [2 5 2] <= [6 1 7]\n",
      "Process B has not enough resources\n",
      "Process C comparing need with work: [3 4 3] <= [6 1 7]\n",
      "Process C has not enough resources\n",
      "Process D comparing need with work: [4 1 0] <= [6 1 7]\n",
      "Process D completed\n",
      "work = work + alloc: [6 1 7] + [2 4 1] = [8 5 8]\n",
      "\n",
      "Process A already finished\n",
      "Process B comparing need with work: [2 5 2] <= [8 5 8]\n",
      "Process B completed\n",
      "work = work + alloc: [8 5 8] + [0 2 0] = [8 7 8]\n",
      "Process C comparing need with work: [3 4 3] <= [8 7 8]\n",
      "Process C completed\n",
      "work = work + alloc: [8 7 8] + [4 2 0] = [12  9  8]\n",
      "Process D already finished\n",
      "\n",
      "All processes are finished\n",
      "Safe sequence: ['A', 'D', 'B', 'C']\n"
     ]
    }
   ],
   "source": [
    "request = np.array([0, 2, 1])\n",
    "process = 3\n",
    "try_grant_request(avail, alloc, need, process, request)"
   ],
   "metadata": {
    "collapsed": false,
    "ExecuteTime": {
     "end_time": "2023-06-21T18:11:34.294292700Z",
     "start_time": "2023-06-21T18:11:34.285815200Z"
    }
   }
  },
  {
   "cell_type": "markdown",
   "source": [
    "E58) c) B asks (1, 2, 1) more resources"
   ],
   "metadata": {
    "collapsed": false
   }
  },
  {
   "cell_type": "code",
   "execution_count": 4,
   "outputs": [
    {
     "name": "stdout",
     "output_type": "stream",
     "text": [
      "Request [1 2 1] for process B is granted\n",
      "avail = avail - request: [1 2 7] - [1 2 1] = [0 0 6]\n",
      "alloc[process] = alloc[process] + request: [0 2 0] + [1 2 1] = [1 4 1]\n",
      "need = need - request: [2 5 2] - [1 2 1] = [1 3 1]\n",
      "\n",
      "Process A comparing need with work: [1 0 1] <= [0 0 6]\n",
      "Process A has not enough resources\n",
      "Process B comparing need with work: [1 3 1] <= [0 0 6]\n",
      "Process B has not enough resources\n",
      "Process C comparing need with work: [3 4 3] <= [0 0 6]\n",
      "Process C has not enough resources\n",
      "Process D comparing need with work: [4 1 0] <= [0 0 6]\n",
      "Process D has not enough resources\n",
      "\n",
      "There is no safe sequence\n"
     ]
    }
   ],
   "source": [
    "request = np.array([1, 2, 1])\n",
    "process = 1\n",
    "try_grant_request(avail, alloc, need, process, request)"
   ],
   "metadata": {
    "collapsed": false,
    "ExecuteTime": {
     "end_time": "2023-06-21T18:11:34.302285200Z",
     "start_time": "2023-06-21T18:11:34.296292200Z"
    }
   }
  },
  {
   "cell_type": "markdown",
   "source": [
    "E71)"
   ],
   "metadata": {
    "collapsed": false
   }
  },
  {
   "cell_type": "code",
   "execution_count": 5,
   "outputs": [
    {
     "name": "stdout",
     "output_type": "stream",
     "text": [
      "Alloc:\n",
      " [[3 1]\n",
      " [2 3]\n",
      " [3 0]]\n",
      "Max:\n",
      " [[7 3]\n",
      " [3 3]\n",
      " [5 4]]\n",
      "Avail:\n",
      " [2 8]\n",
      "Subtracting Alloc from Max:\n",
      " [[4 2]\n",
      " [1 0]\n",
      " [2 4]]\n",
      "\n",
      "Process P1 comparing need with work: [4 2] <= [2 8]\n",
      "Process P1 has not enough resources\n",
      "Process P2 comparing need with work: [1 0] <= [2 8]\n",
      "Process P2 completed\n",
      "work = work + alloc: [2 8] + [2 3] = [ 4 11]\n",
      "Process P3 comparing need with work: [2 4] <= [ 4 11]\n",
      "Process P3 completed\n",
      "work = work + alloc: [ 4 11] + [3 0] = [ 7 11]\n",
      "\n",
      "Process P1 comparing need with work: [4 2] <= [ 7 11]\n",
      "Process P1 completed\n",
      "work = work + alloc: [ 7 11] + [3 1] = [10 12]\n",
      "Process P2 already finished\n",
      "Process P3 already finished\n",
      "\n",
      "All processes are finished\n",
      "Safe sequence: ['P2', 'P3', 'P1']\n"
     ]
    }
   ],
   "source": [
    "process_names = ['P1', 'P2', 'P3']\n",
    "resource_names = ['R1', 'R2']\n",
    "\n",
    "alloc = np.array([[3, 1],\n",
    "                  [2, 3],\n",
    "                  [3, 0]])\n",
    "print(\"Alloc:\\n\", alloc)\n",
    "\n",
    "maximum = np.array([[7, 3],\n",
    "                    [3, 3],\n",
    "                    [5, 4]])\n",
    "print(\"Max:\\n\", maximum)\n",
    "\n",
    "R1 = 10\n",
    "R2 = 12\n",
    "\n",
    "avail = np.array([R1-np.sum(alloc[:,0]), R2-np.sum(alloc[:,1])])\n",
    "print(\"Avail:\\n\", avail)\n",
    "\n",
    "need = np.subtract(maximum, alloc)\n",
    "print(\"Subtracting Alloc from Max:\\n\", need)\n",
    "\n",
    "calc_safe_sequence(avail, alloc, need, process_names)"
   ],
   "metadata": {
    "collapsed": false,
    "ExecuteTime": {
     "end_time": "2023-06-21T18:11:34.355148300Z",
     "start_time": "2023-06-21T18:11:34.305283900Z"
    }
   }
  },
  {
   "cell_type": "code",
   "execution_count": 6,
   "outputs": [
    {
     "name": "stdout",
     "output_type": "stream",
     "text": [
      "Request [3 1] for process P1 is not granted because it exceeds the available resources request > avail ([3 1] > [2 8])\n"
     ]
    }
   ],
   "source": [
    "request = np.array([3, 1])\n",
    "process = 0\n",
    "try_grant_request(avail, alloc, need, process, request)"
   ],
   "metadata": {
    "collapsed": false,
    "ExecuteTime": {
     "end_time": "2023-06-21T18:11:34.366676200Z",
     "start_time": "2023-06-21T18:11:34.313166100Z"
    }
   }
  }
 ],
 "metadata": {
  "kernelspec": {
   "display_name": "Python 3",
   "language": "python",
   "name": "python3"
  },
  "language_info": {
   "codemirror_mode": {
    "name": "ipython",
    "version": 2
   },
   "file_extension": ".py",
   "mimetype": "text/x-python",
   "name": "python",
   "nbconvert_exporter": "python",
   "pygments_lexer": "ipython2",
   "version": "2.7.6"
  }
 },
 "nbformat": 4,
 "nbformat_minor": 0
}
